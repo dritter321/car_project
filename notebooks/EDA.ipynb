{
 "cells": [
  {
   "cell_type": "code",
   "execution_count": 10,
   "id": "c4c05c8c",
   "metadata": {},
   "outputs": [
    {
     "name": "stdout",
     "output_type": "stream",
     "text": [
      "Looking in indexes: https://pypi.org/simple, https://pypi.python.org/pypi\n",
      "Requirement already satisfied: pip in /Users/Daniel_Ritter/anaconda3/lib/python3.11/site-packages (25.0)\n",
      "Note: you may need to restart the kernel to use updated packages.\n",
      "Looking in indexes: https://pypi.org/simple, https://pypi.python.org/pypi\n",
      "Requirement already satisfied: numpy==1.24.3 in /Users/Daniel_Ritter/anaconda3/lib/python3.11/site-packages (from -r requirements.txt (line 1)) (1.24.3)\n",
      "Requirement already satisfied: pandas==1.4.4 in /Users/Daniel_Ritter/anaconda3/lib/python3.11/site-packages (from -r requirements.txt (line 2)) (1.4.4)\n",
      "Requirement already satisfied: matplotlib==3.7.2 in /Users/Daniel_Ritter/anaconda3/lib/python3.11/site-packages (from -r requirements.txt (line 3)) (3.7.2)\n",
      "Requirement already satisfied: python-dateutil>=2.8.1 in /Users/Daniel_Ritter/anaconda3/lib/python3.11/site-packages (from pandas==1.4.4->-r requirements.txt (line 2)) (2.8.2)\n",
      "Requirement already satisfied: pytz>=2020.1 in /Users/Daniel_Ritter/anaconda3/lib/python3.11/site-packages (from pandas==1.4.4->-r requirements.txt (line 2)) (2023.3.post1)\n",
      "Requirement already satisfied: contourpy>=1.0.1 in /Users/Daniel_Ritter/anaconda3/lib/python3.11/site-packages (from matplotlib==3.7.2->-r requirements.txt (line 3)) (1.0.5)\n",
      "Requirement already satisfied: cycler>=0.10 in /Users/Daniel_Ritter/anaconda3/lib/python3.11/site-packages (from matplotlib==3.7.2->-r requirements.txt (line 3)) (0.11.0)\n",
      "Requirement already satisfied: fonttools>=4.22.0 in /Users/Daniel_Ritter/anaconda3/lib/python3.11/site-packages (from matplotlib==3.7.2->-r requirements.txt (line 3)) (4.25.0)\n",
      "Requirement already satisfied: kiwisolver>=1.0.1 in /Users/Daniel_Ritter/anaconda3/lib/python3.11/site-packages (from matplotlib==3.7.2->-r requirements.txt (line 3)) (1.4.4)\n",
      "Requirement already satisfied: packaging>=20.0 in /Users/Daniel_Ritter/anaconda3/lib/python3.11/site-packages (from matplotlib==3.7.2->-r requirements.txt (line 3)) (23.1)\n",
      "Requirement already satisfied: pillow>=6.2.0 in /Users/Daniel_Ritter/anaconda3/lib/python3.11/site-packages (from matplotlib==3.7.2->-r requirements.txt (line 3)) (9.4.0)\n",
      "Requirement already satisfied: pyparsing<3.1,>=2.3.1 in /Users/Daniel_Ritter/anaconda3/lib/python3.11/site-packages (from matplotlib==3.7.2->-r requirements.txt (line 3)) (3.0.9)\n",
      "Requirement already satisfied: six>=1.5 in /Users/Daniel_Ritter/anaconda3/lib/python3.11/site-packages (from python-dateutil>=2.8.1->pandas==1.4.4->-r requirements.txt (line 2)) (1.16.0)\n",
      "Note: you may need to restart the kernel to use updated packages.\n"
     ]
    }
   ],
   "source": [
    "%pip install --upgrade pip --index-url https://pypi.org/simple\n",
    "%pip install -r requirements.txt --index-url https://pypi.org/simple"
   ]
  },
  {
   "cell_type": "code",
   "execution_count": 7,
   "id": "9edfb022",
   "metadata": {},
   "outputs": [
    {
     "name": "stdout",
     "output_type": "stream",
     "text": [
      "NumPy version: 1.24.3\n",
      "Pandas version: 1.4.4\n",
      "Matplotlib version: 3.7.2\n"
     ]
    }
   ],
   "source": [
    "import numpy\n",
    "import pandas\n",
    "import matplotlib\n",
    "\n",
    "print(\"NumPy version:\", numpy.__version__)\n",
    "print(\"Pandas version:\", pandas.__version__)\n",
    "print(\"Matplotlib version:\", matplotlib.__version__)"
   ]
  },
  {
   "cell_type": "code",
   "execution_count": 8,
   "id": "e330f6bf",
   "metadata": {},
   "outputs": [
    {
     "name": "stdout",
     "output_type": "stream",
     "text": [
      "   car_ID         CarName          ownername                   owneremail  \\\n",
      "0       1  toyota corolla  Matthew Hernandez  matthew.hernandez@gmail.com   \n",
      "1       2   toyota carina      Megan Sanchez      megan.sanchez@gmail.com   \n",
      "2       3  toyota corolla     Sarah Lawrence      sarahlawrence@gmail.com   \n",
      "3       4   toyota corona       Debra Juarez     debra.juarez@hotmail.com   \n",
      "4       5     nissan otti     Michael Harvey      michaelharvey@gmail.com   \n",
      "\n",
      "                                   dealershipaddress    saledate  \\\n",
      "0  96559 Moore Street\\r\\nPenningtonchester, NJ 99785  2016-11-23   \n",
      "1  18399 House Village Apt. 697\\r\\nLake Amberburg...  2020-08-11   \n",
      "2            79775 Anne Way\\r\\nEast Ashley, GU 04171  2018-06-26   \n",
      "3             540 Allen Lane\\r\\nLake Randy, ME 90623  2018-07-24   \n",
      "4  5519 Krause Station Apt. 935\\r\\nWest Frederick...  2022-02-10   \n",
      "\n",
      "                     iban fueltype aspiration doornumber  ... carheight  \\\n",
      "0  GB84TJXJ3114**********   diesel        std       four  ...      52.8   \n",
      "1  GB13IBBH0818**********      gas        std       four  ...      59.1   \n",
      "2  GB07IVPZ1581**********      gas        std        two  ...      52.0   \n",
      "3  GB69IASI9434**********      gas        std        two  ...      52.0   \n",
      "4  GB33TRRF7833**********      gas        std       four  ...      55.1   \n",
      "\n",
      "  curbweight cylindernumber  enginesize compressionratio  horsepower  peakrpm  \\\n",
      "0       2275            4.0         110             22.5        56.0     4500   \n",
      "1       3110            4.0          92              9.0        62.0     4800   \n",
      "2       2714            4.0         146              9.3       116.0     4800   \n",
      "3       3016            6.0         171              9.3       161.0     5200   \n",
      "4       3060            6.0         181              9.0       152.0     5200   \n",
      "\n",
      "   citympg  highwaympg    Price  \n",
      "0       38          47   7788.0  \n",
      "1       27          32   8778.0  \n",
      "2       24          30  11549.0  \n",
      "3       19          24  15998.0  \n",
      "4       19          25  13499.0  \n",
      "\n",
      "[5 rows x 27 columns]\n"
     ]
    }
   ],
   "source": [
    "import pandas as pd\n",
    "\n",
    "file_path = '../resources/sample_input.csv'\n",
    "df = pd.read_csv(file_path)\n",
    "print(df.head())"
   ]
  }
 ],
 "metadata": {
  "kernelspec": {
   "display_name": "Python 3 (ipykernel)",
   "language": "python",
   "name": "python3"
  },
  "language_info": {
   "codemirror_mode": {
    "name": "ipython",
    "version": 3
   },
   "file_extension": ".py",
   "mimetype": "text/x-python",
   "name": "python",
   "nbconvert_exporter": "python",
   "pygments_lexer": "ipython3",
   "version": "3.11.5"
  }
 },
 "nbformat": 4,
 "nbformat_minor": 5
}
