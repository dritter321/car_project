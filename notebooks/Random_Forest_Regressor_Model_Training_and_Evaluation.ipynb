{
 "cells": [
  {
   "cell_type": "code",
   "execution_count": 1,
   "id": "8e0bd57d",
   "metadata": {},
   "outputs": [
    {
     "name": "stdout",
     "output_type": "stream",
     "text": [
      "Note: you may need to restart the kernel to use updated packages.\n",
      "Note: you may need to restart the kernel to use updated packages.\n"
     ]
    }
   ],
   "source": [
    "%pip install --upgrade pip --index-url https://pypi.org/simple -q\n",
    "%pip install -r requirements.txt --index-url https://pypi.org/simple -q"
   ]
  },
  {
   "cell_type": "code",
   "execution_count": 2,
   "id": "66dc956e",
   "metadata": {},
   "outputs": [
    {
     "name": "stdout",
     "output_type": "stream",
     "text": [
      "NumPy version: 1.24.3\n",
      "Pandas version: 1.4.4\n",
      "Scikit-learn version: 1.4.0\n"
     ]
    }
   ],
   "source": [
    "import numpy as np\n",
    "import pandas as pd\n",
    "import sklearn\n",
    "import pickle\n",
    "from datetime import datetime\n",
    "from sklearn.ensemble import RandomForestRegressor\n",
    "from sklearn.model_selection import train_test_split, GridSearchCV\n",
    "from sklearn.metrics import mean_squared_error, r2_score\n",
    "\n",
    "print(\"NumPy version:\", np.__version__)\n",
    "print(\"Pandas version:\", pd.__version__)\n",
    "print(\"Scikit-learn version:\", sklearn.__version__)"
   ]
  },
  {
   "cell_type": "code",
   "execution_count": 3,
   "id": "2bb68290",
   "metadata": {},
   "outputs": [
    {
     "name": "stdout",
     "output_type": "stream",
     "text": [
      "          CarName fueltype aspiration doornumber    carbody drivewheel  \\\n",
      "0  toyota corolla   diesel        std       four  hatchback        fwd   \n",
      "1   toyota carina      gas        std       four      wagon        4wd   \n",
      "2  toyota corolla      gas        std        two  hatchback        rwd   \n",
      "3   toyota corona      gas        std        two  hatchback        rwd   \n",
      "4     nissan otti      gas        std       four      sedan        fwd   \n",
      "\n",
      "  enginelocation  wheelbase    color  carlength  carwidth  carheight  \\\n",
      "0          front       95.7   yellow      166.3      64.4       52.8   \n",
      "1          front       95.7   purple      169.7      63.6       59.1   \n",
      "2          front       98.4     navy      176.2      65.6       52.0   \n",
      "3          front      102.9  fuchsia      183.5      67.7       52.0   \n",
      "4          front      100.4   yellow      184.6      66.5       55.1   \n",
      "\n",
      "   curbweight  cylindernumber  enginesize  compressionratio  horsepower  \\\n",
      "0        2275             4.0         110              22.5        56.0   \n",
      "1        3110             4.0          92               9.0        62.0   \n",
      "2        2714             4.0         146               9.3       116.0   \n",
      "3        3016             6.0         171               9.3       161.0   \n",
      "4        3060             6.0         181               9.0       152.0   \n",
      "\n",
      "   peakrpm  citympg  highwaympg    Price  \n",
      "0     4500       38          47   7788.0  \n",
      "1     4800       27          32   8778.0  \n",
      "2     4800       24          30  11549.0  \n",
      "3     5200       19          24  15998.0  \n",
      "4     5200       19          25  13499.0  \n"
     ]
    }
   ],
   "source": [
    "pd.set_option('display.max_columns', None)\n",
    "file_path = '../resources/curated_input.csv'\n",
    "df = pd.read_csv(file_path)\n",
    "print(df.head())"
   ]
  },
  {
   "cell_type": "code",
   "execution_count": 4,
   "id": "9c433833",
   "metadata": {},
   "outputs": [
    {
     "name": "stdout",
     "output_type": "stream",
     "text": [
      "Fitting 3 folds for each of 108 candidates, totalling 324 fits\n",
      "Best parameters found:  {'max_depth': 20, 'min_samples_leaf': 1, 'min_samples_split': 2, 'n_estimators': 300}\n",
      "RMSE: 1947.9731057682432\n",
      "R^2: 0.9599802288317854\n"
     ]
    }
   ],
   "source": [
    "# Your data preprocessing steps\n",
    "df_encoded = pd.get_dummies(df, drop_first=True)\n",
    "X = df_encoded.drop('Price', axis=1)\n",
    "y = df_encoded['Price']\n",
    "X_train, X_test, y_train, y_test = train_test_split(X, y, test_size=0.2, random_state=42)\n",
    "\n",
    "# Hyperparameter grid\n",
    "param_grid = {\n",
    "    'n_estimators': [100, 200, 300],\n",
    "    'max_depth': [None, 10, 20, 30],\n",
    "    'min_samples_split': [2, 5, 10],\n",
    "    'min_samples_leaf': [1, 2, 4]\n",
    "}\n",
    "\n",
    "# Create a base model\n",
    "rf = RandomForestRegressor(random_state=42)\n",
    "\n",
    "# Instantiate the grid search model\n",
    "grid_search = GridSearchCV(estimator=rf, param_grid=param_grid, \n",
    "                           cv=3, n_jobs=-1, verbose=2, scoring='neg_mean_squared_error')\n",
    "\n",
    "# Fit the grid search to the data\n",
    "grid_search.fit(X_train, y_train)\n",
    "\n",
    "# Best parameters and estimator\n",
    "print(\"Best parameters found: \", grid_search.best_params_)\n",
    "best_rf = grid_search.best_estimator_\n",
    "\n",
    "# Predict and Evaluate performance metrics\n",
    "y_pred = best_rf.predict(X_test)\n",
    "rmse = np.sqrt(mean_squared_error(y_test, y_pred))\n",
    "r2 = r2_score(y_test, y_pred)\n",
    "\n",
    "print(\"RMSE:\", rmse)\n",
    "print(\"R^2:\", r2)"
   ]
  },
  {
   "cell_type": "code",
   "execution_count": 5,
   "id": "65682ce9",
   "metadata": {},
   "outputs": [],
   "source": [
    "# Save the model to a file\n",
    "timestamp = datetime.now().strftime('%Y%m%d_%H%M%S')\n",
    "file_path = f'../models/best_random_forest_model_{timestamp}.json'\n",
    "with open(file_path, 'wb') as file:\n",
    "    pickle.dump(best_rf, file)"
   ]
  },
  {
   "cell_type": "code",
   "execution_count": null,
   "id": "417bc174",
   "metadata": {},
   "outputs": [],
   "source": []
  }
 ],
 "metadata": {
  "kernelspec": {
   "display_name": "Python 3 (ipykernel)",
   "language": "python",
   "name": "python3"
  },
  "language_info": {
   "codemirror_mode": {
    "name": "ipython",
    "version": 3
   },
   "file_extension": ".py",
   "mimetype": "text/x-python",
   "name": "python",
   "nbconvert_exporter": "python",
   "pygments_lexer": "ipython3",
   "version": "3.11.5"
  }
 },
 "nbformat": 4,
 "nbformat_minor": 5
}
